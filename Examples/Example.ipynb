{
 "cells": [
  {
   "cell_type": "code",
   "execution_count": 1,
   "metadata": {},
   "outputs": [],
   "source": [
    "import MultirefPredict\n",
    "import qcelemental"
   ]
  },
  {
   "cell_type": "code",
   "execution_count": 2,
   "metadata": {},
   "outputs": [],
   "source": [
    "mol = qcelemental.models.Molecule.from_data(\"\"\"\n",
    "O                 0.000000000000     0.000000000000    -0.068516245955\n",
    "H                 0.000000000000    -0.790689888800     0.543701278274\n",
    "H                 0.000000000000     0.790689888800     0.543701278274\n",
    "\"\"\")"
   ]
  },
  {
   "cell_type": "code",
   "execution_count": 3,
   "metadata": {},
   "outputs": [
    {
     "name": "stdout",
     "output_type": "stream",
     "text": [
      "Compute B1 diagnostic of the given molecule:\n",
      "Trying to determine the dissociation limit of the molecule\n",
      "\n",
      "Dissociation limit of the molecule:\n",
      "------------------------------\n",
      "Atom   Count    Charge   spin    \n",
      "------------------------------\n",
      "  O       1       0.0       3    \n",
      "  H       2       0.0       2    \n",
      "------------------------------\n",
      "\n",
      "Calculate atomization energy with method:  blyp\n",
      "Evaluating the energy of the whole molecule...\n",
      "Final energy of the molecule (Hartree): -76.36645993\n",
      "Evaluating the energy of the atomization limit of the molecule...\n",
      "Final energy of atom  O  (Hartree): -75.04456340\n",
      "Final energy of atom  H  (Hartree): -0.49544692\n",
      "Final energy of the atomized limit (Hartree): -76.03545724\n",
      "Atomization energy (Hartree): 0.33100269\n",
      "\n",
      "\n",
      "Calculate atomization energy with method:  b1lyp\n",
      "Evaluating the energy of the whole molecule...\n",
      "Final energy of the molecule (Hartree): -76.35352874\n",
      "Evaluating the energy of the atomization limit of the molecule...\n",
      "Final energy of atom  O  (Hartree): -75.04291669\n",
      "Final energy of atom  H  (Hartree): -0.49613954\n",
      "Final energy of the atomized limit (Hartree): -76.03519577\n",
      "Atomization energy (Hartree): 0.31833296\n",
      "\n",
      "Number of bonds in the molecule:  2\n",
      "\n",
      "B1 DIAGNOSTICS: 0.006\n"
     ]
    }
   ],
   "source": [
    "b1 = MultirefPredict.diagnostic_factory(\"B1\",molecule=mol).computeDiagnostic()"
   ]
  },
  {
   "cell_type": "code",
   "execution_count": 4,
   "metadata": {},
   "outputs": [
    {
     "name": "stdout",
     "output_type": "stream",
     "text": [
      "0.006334860365228678\n"
     ]
    }
   ],
   "source": [
    "print(b1)"
   ]
  },
  {
   "cell_type": "code",
   "execution_count": 5,
   "metadata": {},
   "outputs": [
    {
     "name": "stdout",
     "output_type": "stream",
     "text": [
      "Compute A25PBE diagnostic of the given molecule:\n",
      "Trying to determine the dissociation limit of the molecule\n",
      "\n",
      "Dissociation limit of the molecule:\n",
      "------------------------------\n",
      "Atom   Count    Charge   spin    \n",
      "------------------------------\n",
      "  O       1       0.0       3    \n",
      "  H       2       0.0       2    \n",
      "------------------------------\n",
      "\n",
      "Calculate atomization energy with method:  pbe\n",
      "Evaluating the energy of the whole molecule...\n",
      "Final energy of the molecule (Hartree): -76.29945412\n",
      "Evaluating the energy of the atomization limit of the molecule...\n",
      "Final energy of atom  O  (Hartree): -74.97125270\n",
      "Final energy of atom  H  (Hartree): -0.49743231\n",
      "Final energy of the atomized limit (Hartree): -75.96611733\n",
      "Atomization energy (Hartree): 0.33333679\n",
      "\n",
      "\n",
      "Calculate atomization energy with method:  pbe0\n",
      "Evaluating the energy of the whole molecule...\n",
      "Final energy of the molecule (Hartree): -76.30050125\n",
      "Evaluating the energy of the atomization limit of the molecule...\n",
      "Final energy of atom  O  (Hartree): -74.98249949\n",
      "Final energy of atom  H  (Hartree): -0.49910994\n",
      "Final energy of the atomized limit (Hartree): -75.98071937\n",
      "Atomization energy (Hartree): 0.31978188\n",
      "\n",
      "\n",
      "A25PBE DIAGNOSTICS: 0.163\n"
     ]
    }
   ],
   "source": [
    "A25PBE = MultirefPredict.diagnostic_factory(\"A25PBE\",molecule=mol).computeDiagnostic()"
   ]
  },
  {
   "cell_type": "code",
   "execution_count": 6,
   "metadata": {},
   "outputs": [
    {
     "name": "stdout",
     "output_type": "stream",
     "text": [
      "0.1626572016077259\n"
     ]
    }
   ],
   "source": [
    "print(A25PBE)"
   ]
  },
  {
   "cell_type": "code",
   "execution_count": 7,
   "metadata": {},
   "outputs": [
    {
     "name": "stdout",
     "output_type": "stream",
     "text": [
      "Compute TAE diagnostic of the given molecule:\n",
      "Trying to determine the dissociation limit of the molecule\n",
      "\n",
      "Dissociation limit of the molecule:\n",
      "------------------------------\n",
      "Atom   Count    Charge   spin    \n",
      "------------------------------\n",
      "  O       1       0.0       3    \n",
      "  H       2       0.0       2    \n",
      "------------------------------\n",
      "\n",
      "Calculate atomization energy with method:  ccsd\n",
      "Evaluating the energy of the whole molecule...\n",
      "Final energy of the molecule (Hartree): -76.11956482\n",
      "Evaluating the energy of the atomization limit of the molecule...\n",
      "Final energy of atom  O  (Hartree): -74.83897132\n",
      "Final energy of atom  H  (Hartree): -0.49823291\n",
      "Final energy of the atomized limit (Hartree): -75.83543714\n",
      "Atomization energy (Hartree): 0.28412768\n",
      "\n",
      "\n",
      "Calculate atomization energy with method:  ccsd(t)\n",
      "Evaluating the energy of the whole molecule...\n",
      "Final energy of the molecule (Hartree): -76.12070788\n",
      "Evaluating the energy of the atomization limit of the molecule...\n",
      "Final energy of atom  O  (Hartree): -74.83931434\n",
      "Final energy of atom  H  (Hartree): -0.49823291\n",
      "Final energy of the atomized limit (Hartree): -75.83578016\n",
      "Atomization energy (Hartree): 0.28492772\n",
      "\n",
      "\n",
      "TAE DIAGNOSTICS: 0.281\n"
     ]
    }
   ],
   "source": [
    "tae = MultirefPredict.diagnostic_factory(\"TAE\",molecule=mol).computeDiagnostic()"
   ]
  },
  {
   "cell_type": "code",
   "execution_count": 8,
   "metadata": {},
   "outputs": [
    {
     "name": "stdout",
     "output_type": "stream",
     "text": [
      "0.28078682517214126\n"
     ]
    }
   ],
   "source": [
    "print(tae)"
   ]
  },
  {
   "cell_type": "code",
   "execution_count": null,
   "metadata": {},
   "outputs": [],
   "source": []
  }
 ],
 "metadata": {
  "kernelspec": {
   "display_name": "Python 3",
   "language": "python",
   "name": "python3"
  },
  "language_info": {
   "codemirror_mode": {
    "name": "ipython",
    "version": 3
   },
   "file_extension": ".py",
   "mimetype": "text/x-python",
   "name": "python",
   "nbconvert_exporter": "python",
   "pygments_lexer": "ipython3",
   "version": "3.6.8"
  }
 },
 "nbformat": 4,
 "nbformat_minor": 2
}
