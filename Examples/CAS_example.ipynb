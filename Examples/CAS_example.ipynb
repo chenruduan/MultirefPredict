{
 "cells": [
  {
   "cell_type": "code",
   "execution_count": 1,
   "metadata": {},
   "outputs": [],
   "source": [
    "import MultirefPredict\n",
    "import qcelemental"
   ]
  },
  {
   "cell_type": "code",
   "execution_count": 2,
   "metadata": {},
   "outputs": [],
   "source": [
    "mol = qcelemental.models.Molecule(geometry=[0, 0, 0],\n",
    "                                 symbols=[\"O\"],\n",
    "                                 molecular_charge=0,\n",
    "                                 molecular_multiplicity=3)"
   ]
  },
  {
   "cell_type": "code",
   "execution_count": 3,
   "metadata": {},
   "outputs": [
    {
     "name": "stdout",
     "output_type": "stream",
     "text": [
      "Compute C0 diagnostic of the given molecule:\n",
      "\n",
      "C0 DIAGNOSTICS:  {'C0': 0.978, 'C0^2': 0.9566}\n"
     ]
    }
   ],
   "source": [
    "C0 = MultirefPredict.diagnostic_factory(\"C0\",molecule=mol).computeDiagnostic()"
   ]
  },
  {
   "cell_type": "code",
   "execution_count": 4,
   "metadata": {},
   "outputs": [
    {
     "name": "stdout",
     "output_type": "stream",
     "text": [
      "{'C0': 0.978, 'C0^2': 0.9566}\n"
     ]
    }
   ],
   "source": []
  }
 ],
 "metadata": {
  "kernelspec": {
   "display_name": "qcengine",
   "language": "python",
   "name": "qcengine"
  },
  "language_info": {
   "codemirror_mode": {
    "name": "ipython",
    "version": 3
   },
   "file_extension": ".py",
   "mimetype": "text/x-python",
   "name": "python",
   "nbconvert_exporter": "python",
   "pygments_lexer": "ipython3",
   "version": "3.6.8"
  }
 },
 "nbformat": 4,
 "nbformat_minor": 2
}
